{
 "cells": [
  {
   "cell_type": "markdown",
   "metadata": {},
   "source": [
    "```\n",
    "#                 COPYRIGHT & LICENSE TERMS NOTICE\n",
    "# =============================================================================\n",
    "# All following code and content is © 2024 Ross Blair,\n",
    "# and falls under the licensing terms of Ross Blair's\n",
    "# derivative of the Business Source License \\(BSL\\).\n",
    "# The precise license and warranty terms of the BSL can be found in the file \n",
    "# `LICENSE.BSL.md`, which should have been distributed\n",
    "# along with this code file.  All other use of original-work code and content\n",
    "# falling outside of this BSL license is prohibited.\n",
    "# =============================================================================\n",
    "```"
   ]
  },
  {
   "cell_type": "markdown",
   "metadata": {},
   "source": [
    "# Python Application Source Code Packaging Runbook\n",
    "\n",
    "The following runbook helps to ensure that your application's source code can be properly processed into a well organized Python package that contains an intuitive structure with good documentation.\n",
    "\n",
    "As you have probably already noticed, this runbook comes in the form of a Jupyter notebook.  It consists of a mixture of documentation cells and code cells.  The documentation and code cells proceed in a logical order, assuming that you're starting at the very beginning of the code packaging process and proceeding right through to where you've packaged your application and are cleaning up and organizing the resulting outputs.  Generally speaking, these documentation and code cells should be read and/or executed in the order they're presented below, but they do not necessarily need to be.  If you don't need to take a certain action, you can skip the execution of one or more steps.\n",
    "\n",
    "Each stage in the packaging process begins with a documentation cell with a new section.  Some sections are more \"automated\" \\(i.e. all you have to do is run some code cells to execute the code\\) than others.\n",
    "\n",
    "Let's get into it.\n",
    "\n"
   ]
  },
  {
   "cell_type": "markdown",
   "metadata": {},
   "source": [
    "## Copying Any Relevant Files Into The Source Code Directory\n",
    "\n",
    "Since we are going to build the package from the source code directory, we will need to copy any relevant files and directories from the project's main directory into the application's source code directory.\n",
    "\n",
    "This operation can be automated using the code below to make this process less painful for you.  The automation executes in several stages listed here.\n",
    "\n",
    "STAGE 1: Manually set some important constant variables \\(e.g. Which files do you want to copy?\\).\n",
    "STAGE 2: Specify which exact files you want to copy.\n",
    "STAGE 3: Prepare the code's execution with some import statements and other constant variables.\n",
    "STAGE 4: Execute the copy operations, and update the Python packaging MANIFEST.in file accordingly."
   ]
  },
  {
   "cell_type": "markdown",
   "metadata": {},
   "source": [
    "### STAGE 1: Manually Configuring Some Important Variables\n",
    "\n",
    "Since you are working with code executing from the context of this Jupyter notebook file, you need to specify some constant variables to ensure that the code is properly oriented relative to the main directory of your project.  We need to tell the code where to find the main directory of the project, and where to locate the application source code directory that we're building our package from.\n",
    "\n",
    "Review the following code cell and manually edit the relative file paths accordingly."
   ]
  },
  {
   "cell_type": "code",
   "execution_count": 14,
   "metadata": {},
   "outputs": [],
   "source": [
    "### TO BE MANUALLY CONFIGURED ###\n",
    "\n",
    "# The relative path from the location of this notebook file back to the\n",
    "# main directory of your project.\n",
    "REL_PATH_FROM_PROGRAM_TO_PROJ_ROOT_DIR = \"../../\"\n",
    "\n",
    "# The relative path from the main directory of your project to the \n",
    "# source code directory of the application you're going to package.\n",
    "REL_PATH_FROM_ROOT_TO_SOURCE_CODE_DIR = \"04--app_source_code/drsf\"\n",
    "\n",
    "### TO BE MANUALLY CONFIGURED ###"
   ]
  },
  {
   "cell_type": "markdown",
   "metadata": {},
   "source": [
    "### STAGE 2: Specify Which Files You'd Like to Include in the Application Package\n",
    "\n",
    "Here we'll specify the files and/or directories that we'd like to include with our packaged application."
   ]
  },
  {
   "cell_type": "code",
   "execution_count": 15,
   "metadata": {},
   "outputs": [],
   "source": [
    "### TO BE MANUALLY CONFIGURED ###\n",
    "\n",
    "# Ensure that these file and directory paths are written relative to the root\n",
    "# of your project folder.\n",
    "DOCS_TO_COPY = {\n",
    "    \"LICENSE.md\",\n",
    "    \"LICENSE.md.sig\",\n",
    "    \"00--copyright_and_licensing\",\n",
    "}\n",
    "\n",
    "### TO BE MANUALLY CONFIGURED ###"
   ]
  },
  {
   "cell_type": "markdown",
   "metadata": {},
   "source": [
    "### STAGE 3: Preparing for the Code's Execution"
   ]
  },
  {
   "cell_type": "code",
   "execution_count": 16,
   "metadata": {},
   "outputs": [],
   "source": [
    "### DO NOT MANUALLY CONFIGURE ###\n",
    "\n",
    "APP_SOURCE_CODE_DIR = REL_PATH_FROM_PROGRAM_TO_PROJ_ROOT_DIR + REL_PATH_FROM_ROOT_TO_SOURCE_CODE_DIR\n",
    "\n",
    "BASE_MANIFEST_FILE_PATH = APP_SOURCE_CODE_DIR + \"/\" + \"BASE_MANIFEST.in\"\n",
    "MANIFEST_FILE_PATH = APP_SOURCE_CODE_DIR + \"/\" + \"MANIFEST.in\"\n",
    "MANIFEST_FILE_AUTOMATIC_INSERT_SECTION = [\n",
    "        \"\\n\",\n",
    "        \"# The following section was automatically generated by the program\\n\",\n",
    "        \"# `python_code_packaging.ipynb`.  These files were automatically\\n\",\n",
    "        \"# copied from a main project folder to this source code folder,\\n\",\n",
    "        \"# then automatically inserted here to the `MANIFEST.in` configuration\\n\",\n",
    "        \"# syntax.  Therefore, you'll find that these files and directories in\\n\",\n",
    "        \"# this section serve a variety of purposes.\\n\"\n",
    "    ]\n",
    "COPIED_DOC_PATHS = []\n",
    "\n",
    "### DO NOT MANUALLY CONFIGURE ###"
   ]
  },
  {
   "cell_type": "markdown",
   "metadata": {},
   "source": [
    "### STAGE 4: Executing the Copy Operations in Code"
   ]
  },
  {
   "cell_type": "code",
   "execution_count": 17,
   "metadata": {},
   "outputs": [],
   "source": [
    "### DO NOT MANUALLY CONFIGURE ###\n",
    "\n",
    "# Import statements\n",
    "\n",
    "import os\n",
    "import pathlib\n",
    "import shutil\n",
    "\n",
    "# Function definitions\n",
    "\n",
    "def copy_file(source_file, dest_dir):\n",
    "    shutil.copy(source_file, dest_dir)\n",
    "    file_name = pathlib.PurePath(source_file).name\n",
    "    with open(MANIFEST_FILE_PATH, \"a\") as file:\n",
    "        file.write(\"include \" + file_name + \"\\n\")\n",
    "    file.close()\n",
    "    dest_file_path = dest_dir + \"/\" + file_name\n",
    "    return dest_file_path\n",
    "\n",
    "def copy_dir(source_dir_path, dest_dir):\n",
    "    new_dir_name = pathlib.PurePath(source_dir_path).name\n",
    "    dest_dir_path = dest_dir + \"/\" + new_dir_name\n",
    "    shutil.copytree(source_dir_path, dest_dir_path)\n",
    "    with open(MANIFEST_FILE_PATH, \"a\") as file:\n",
    "        file.write(\"recursive-include \" + new_dir_name + \" *\" + \"\\n\")\n",
    "    file.close()\n",
    "    return dest_dir_path\n",
    "\n",
    "# Copy operations.\n",
    "\n",
    "# Copy the original contents of the MANIFEST.in\n",
    "# file.\n",
    "with open(BASE_MANIFEST_FILE_PATH, \"r\") as file:\n",
    "    original_manifest_content_lines = file.readlines()\n",
    "file.close()\n",
    "# Now insert the automatically generated section into the MANIFEST.in\n",
    "# file.\n",
    "with open(MANIFEST_FILE_PATH, \"w\") as file:\n",
    "    file.writelines(original_manifest_content_lines)\n",
    "    file.writelines(MANIFEST_FILE_AUTOMATIC_INSERT_SECTION)\n",
    "file.close()\n",
    "\n",
    "# Copy the desired files and directories into the \n",
    "# source code directory that you wish to build the\n",
    "# Python package from.\n",
    "for i in DOCS_TO_COPY:\n",
    "    source_docs = REL_PATH_FROM_PROGRAM_TO_PROJ_ROOT_DIR + i\n",
    "    #print(source_file)\n",
    "    #print(dest_dir)\n",
    "    if os.path.isfile(source_docs) == True:\n",
    "        dest_file = copy_file(source_docs, APP_SOURCE_CODE_DIR)\n",
    "        COPIED_DOC_PATHS.append(dest_file)\n",
    "        continue\n",
    "    if os.path.isdir(source_docs) == True:\n",
    "        dest_dir = copy_dir(source_docs, APP_SOURCE_CODE_DIR)\n",
    "        COPIED_DOC_PATHS.append(dest_dir)\n",
    "        continue\n",
    "\n",
    "### DO NOT MANUALLY CONFIGURE ###"
   ]
  },
  {
   "cell_type": "markdown",
   "metadata": {},
   "source": [
    "## Executing the Python Package Build Process\n",
    "\n",
    "With all relevant files copied into our source code directory, it's finally time to execute the build process and build the application package.  At the current time this operation must be done manually through the following steps.\n",
    "\n",
    "1. Access your CLI, and ensure that you have your appropriate virtual environment instantiated to run the Python build process.  If you've been following Project Visindi's documentation, this virtual environment will be the venv that supports the project as a whole: `venv--proj_visindi`.\n",
    "\n",
    "2. Navigate to the source code directory of your application.  Remember, you've defined this earlier in your code with the constant `REL_PATH_FROM_ROOT_TO_SOURCE_CODE_DIR`: e.g. `cd ./04--app_source_code/drsf`.\n",
    "\n",
    "3. Execute the Python build command on your CLI: `python -m build`\n",
    "\n",
    "The last step of executing the build process will output a bunch of diagnostic information to your CLI.  If the build is successful, you should find a folder called `dist` within your source code directory.\n",
    "\n"
   ]
  },
  {
   "cell_type": "markdown",
   "metadata": {},
   "source": [
    "## Cleaning Up and Removing Copied Files from the Source Directory\n",
    "\n",
    "Now that the application has been packaged, we probably want to remove all the files we copied into the source directory from elsewhere in the project directory.  We also want to return the MANIFEST.in file to its original configuration."
   ]
  },
  {
   "cell_type": "code",
   "execution_count": 18,
   "metadata": {},
   "outputs": [],
   "source": [
    "### DO NOT MANUALLY CONFIGURE ###\n",
    "\n",
    "# Remove the copied files from the source code directory.\n",
    "for copied_doc_path in COPIED_DOC_PATHS:\n",
    "    if os.path.isfile(copied_doc_path) == True:\n",
    "        os.remove(copied_doc_path)\n",
    "        continue\n",
    "    if os.path.isdir(copied_doc_path) == True:\n",
    "        shutil.rmtree(copied_doc_path)\n",
    "        continue\n",
    "\n",
    "# Remove the MANIFEST.in file since we'll always build from the BASE_MANIFEST.in template file.\n",
    "os.remove(MANIFEST_FILE_PATH)\n",
    "\n",
    "### DO NOT MANUALLY CONFIGURE ###"
   ]
  },
  {
   "cell_type": "markdown",
   "metadata": {},
   "source": [
    "## Wrapping Up\n",
    "\n",
    "With the build process completed, and your source directory cleaned up to its original state before all your file copying, you're now ready to distribute your package to end users.\n",
    "\n",
    "Once the package has been distributed, please feel free to manually delete the `dist` folder from your source code directory."
   ]
  }
 ],
 "metadata": {
  "kernelspec": {
   "display_name": "venv--app_drsf",
   "language": "python",
   "name": "python3"
  },
  "language_info": {
   "codemirror_mode": {
    "name": "ipython",
    "version": 3
   },
   "file_extension": ".py",
   "mimetype": "text/x-python",
   "name": "python",
   "nbconvert_exporter": "python",
   "pygments_lexer": "ipython3",
   "version": "3.11.0"
  },
  "orig_nbformat": 4
 },
 "nbformat": 4,
 "nbformat_minor": 2
}
