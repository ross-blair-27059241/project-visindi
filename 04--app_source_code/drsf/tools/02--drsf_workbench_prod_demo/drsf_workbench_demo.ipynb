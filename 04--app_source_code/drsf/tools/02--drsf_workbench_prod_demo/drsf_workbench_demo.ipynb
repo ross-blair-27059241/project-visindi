{
 "cells": [
  {
   "cell_type": "markdown",
   "metadata": {},
   "source": [
    "```\n",
    "#                 COPYRIGHT & LICENSE TERMS NOTICE\n",
    "# =============================================================================\n",
    "# All following code and content is © 2024 Ross Blair,\n",
    "# and falls under the licensing terms of Ross Blair's\n",
    "# derivative of the Business Source License \\(BSL\\).\n",
    "# The precise license and warranty terms of the BSL can be found in the file \n",
    "# `LICENSE.BSL.md`, which should have been distributed\n",
    "# along with this code file.  All other use of original-work code and content\n",
    "# falling outside of this BSL license is prohibited.\n",
    "# =============================================================================\n",
    "```"
   ]
  },
  {
   "cell_type": "markdown",
   "metadata": {},
   "source": [
    "# The DRSF Workbench\n",
    "\n",
    "<!-- TODO: Content within this section remains a work in progress. -->\n",
    "\n",
    "## What the Workbench Is\n",
    "\n",
    "The DRSF Workbench is a Jupyter notebook file containing a collection of documentation and code within its notebook cells.\n",
    "\n",
    "<div class=\"alert alert-block alert-info\">\n",
    "<b>Tip:</b> If you're not familiar with how to work with Jupyter notebook files, and the broader Jupyter ecosystem of tools, please refer to the <a href=\"https://docs.jupyter.org/en/latest/\">Jupyter Project's docs</a> for further information.</div>\n",
    "\n",
    "## What the Workbench Does\n",
    "\n",
    "The workbench is designed to allow you to create, edit, and publish their Detection & Response Strategic Framework \\(DRSF\\) documentation on your local machine.  The documentation cells below will walk you through every step needed to:\n",
    "1. Create a DRSF from scratch.\n",
    "2. Create DRSF entries.\n",
    "3. Execute certain edits to DRSF entries in a semi-automatic process.\n",
    "4. Publish the DRSF to one or more formats.\n",
    "\n",
    "While the steps above will be documented in a logical order, note that you can make use of these documentation and code cells in a different order.  For example, you may wish to make edits to multiple DRSF entries that already exist in an existing DRSF, in which case you'd skip to the relevant documentation/code cell.\n",
    "\n"
   ]
  },
  {
   "cell_type": "markdown",
   "metadata": {},
   "source": [
    "# Programmatically Instantiating the DRSF \n",
    "\n",
    "<!-- TODO: Content within this section remains a work in progress. -->\n",
    "\n",
    "<div class=\"alert alert-block alert-warning\">\n",
    "<b>IMPORTANT:</b> You should read the following section in detail and configure and run its corresponding code cells below before performing any other operations using this Jupyter notebook.  No matter which operations you're using the DRSF Workbench for, proper instantiation of the codebase is always necessary.</div>\n",
    "\n",
    "The following three code cell sets important file path variable constants and execute the proper instantiation of the `DRSFDocProcessor` object.  It's this \"processor's\" functions that will coordinate the documentation actions and calculations of the DRSF.\n",
    "\n",
    "Let's get into the details of these constants, since you do need to understand them to ensure proper use of the DRSF Workbench.\n",
    "\n",
    "The first set of file path variables **definitely need to be changed by the user**, since they will be different from one DRSF build to another.  These file path variables are:\n",
    "* `DRSF_SOURCE_DOCS_DEV_DIR`: The directory which holds all the DRSF source document documentation that the DRSF, and the DRSF Jupyter book, is built from.  When you're creating new DRSF entries, or editing existing DRSF entries, you'll be working within this directory.  Note: if you're working collaboratively with a team when building your DRSF, your Git pull will already have this directory present and full of documentation.\n",
    "* `DRSF_SOURCE_DOCS_STAGING_DIR`: The staging directory to view the outputs of the DRSF codebase's changes to the original source documentation of the DEV directory explained just above.  By running the calculations of the DRSF and writing those results back into the STAGING directory, we can troubleshoot DRSF code or source doc formatting issues while preserving the integrity of our original draft documents in the DEV directory.\n",
    "* `DRSF_SOURCE_DOCS_BUILD_DIR`: The directory containing the final draft of your latest DRSF work.  Note that this directory can contain everything from the myst-markdown source documents to the html site files, to PDF copies of the DRSF documentation.  Use this directory as a \"latest good draft\" while you're working the DEV and STAGING directories.\n",
    "\n",
    "The second set of file path variables **should NOT be changed by the typical end user** of this notebook file, unless they are involved in active  development of the DRSF core codebase.  These file path variables are:\n",
    "* `DRSF_BASE_CONFIG_MAPPINGS`: The relative path of the json file containing all base configurations for the DRSF.  This file's contents contain critically important configurations and mappings that ensure the proper instantiation and operation of the DRSF and all its respective entries.  You'll see `drsf_base_config_mappings` passed as a parameter to several DRSF objects and many helper functions.\n",
    "* `DRSF_SOURCE_DOC_TEMPLATES_DIR`: The relative file path of the directory containing template markdown files for building DRSF entries.  Each type of DRSF entry will have its own template file. The DRSF code uses these template files to build a DRSF entry's source document, which in turn is used to instantiate a DRSF entry object.\n"
   ]
  },
  {
   "cell_type": "code",
   "execution_count": 1,
   "metadata": {},
   "outputs": [],
   "source": [
    "### TO BE MANUALLY CONFIGURED ###\n",
    "\n",
    "# Constants to be changed by the end user for their own DRSF build.\n",
    "# Specify where the various Jupyter Book source document files\n",
    "# are located, and where processed source doc files are to be written\n",
    "# to.\n",
    "DRSF_SOURCE_DOCS_DEV_DIR = \"./DRSF_Source_Docs_DEV\"\n",
    "DRSF_SOURCE_DOCS_STAGING_DIR = \"./DRSF_Source_Docs_STAGING\"\n",
    "DRSF_SOURCE_DOCS_BUILD_DIR = \"./DRSF_Source_Docs_BUILD\"\n",
    "\n",
    "### TO BE MANUALLY CONFIGURED ###"
   ]
  },
  {
   "cell_type": "code",
   "execution_count": 2,
   "metadata": {},
   "outputs": [],
   "source": [
    "### DO NOT MANUALLY CONFIGURE ###\n",
    "\n",
    "# Constants that should only be changed by active developers.\n",
    "DRSF_BASE_CONFIG_MAPPINGS = \"./00-drsf_base_config_mappings.json\"\n",
    "DRSF_SOURCE_DOCS_TEMPLATE_DIR = \"./00-drsf_source_docs_template_dir\"\n",
    "DRSF_ENTRY_TEMPLATES_DIR = \"./00-drsf_entry_markdown_templates\"\n",
    "\n",
    "### DO NOT MANUALLY CONFIGURE ###"
   ]
  },
  {
   "cell_type": "code",
   "execution_count": null,
   "metadata": {},
   "outputs": [],
   "source": [
    "### DO NOT MANUALLY CONFIGURE ###\n",
    "\n",
    "# Execute the pip package-management-program to perform\n",
    "# an \"editable installation\" of the core DRSF codebase.\n",
    "# This is necessary for the successful imports of the\n",
    "# drsf module in the rest of this notebook's code cells.\n",
    "%pip install -e ../../../drsf\n",
    "\n",
    "### DO NOT MANUALLY CONFIGURE ###"
   ]
  },
  {
   "cell_type": "markdown",
   "metadata": {},
   "source": [
    "# Creating a DRSF from Scratch\n",
    "\n",
    "<!-- TODO: Content within this section remains a work in progress. -->\n",
    "\n",
    "<div class=\"alert alert-block alert-warning\">\n",
    "<b>IMPORTANT:</b> The code cells of this section should only be run when you wish to completely wipe the directories of all existing DRSF content and \"start from scratch\" with your DRSF content.  This content would include all your entries and the contents of any existing DRSF Jupyter Book contained with the DEV, STAGING, and BUILD directories you specified earlier in the instantiation section.  Proceed with caution here!</div>\n",
    "\n",
    "The following code is designed to wipe any exisitng slate of work clean, and instantiate a new template DRSF within the specified DEV directory."
   ]
  },
  {
   "cell_type": "code",
   "execution_count": 4,
   "metadata": {},
   "outputs": [],
   "source": [
    "### WARNING: READ DOC CELL ABOVE BEFORE EXECUTING ###\n",
    "\n",
    "### DO NOT MANUALLY CONFIGURE ###\n",
    "\n",
    "# Import statments of DRSF codebase.\n",
    "from drsf import drsf_doc_processor\n",
    "\n",
    "# Instantiation of the DRSFDocProcessor object.\n",
    "doc_processor = drsf_doc_processor.DRSFDocProcessor(DRSF_BASE_CONFIG_MAPPINGS, DRSF_SOURCE_DOCS_TEMPLATE_DIR, DRSF_ENTRY_TEMPLATES_DIR, DRSF_SOURCE_DOCS_DEV_DIR, DRSF_SOURCE_DOCS_STAGING_DIR, DRSF_SOURCE_DOCS_BUILD_DIR)\n",
    "\n",
    "# Wipe all DRSF document directories.\n",
    "# Rebuild DEV directory from a template directory.\n",
    "### WARNING: READ DOC CELL ABOVE BEFORE EXECUTING ###\n",
    "doc_processor.wipe_source_doc_dirs_and_build_from_scratch()\n",
    "\n",
    "### DO NOT MANUALLY CONFIGURE ###"
   ]
  },
  {
   "cell_type": "markdown",
   "metadata": {},
   "source": [
    "# Building New DRSF Entries\n",
    "\n",
    "<!-- TODO: Content within this section remains a work in progress. -->\n",
    "\n",
    "To ensure proper naming, ID generation, and myst-markdown document formatting for new DRSF entries, you should always use the DRSF codebase to create a new entry from a entry template.  This can be done with the`DRSFDocProcessor` object's `create_new_drsf_entry()` method.\n"
   ]
  },
  {
   "cell_type": "code",
   "execution_count": 5,
   "metadata": {},
   "outputs": [],
   "source": [
    "### DO NOT MANUALLY CONFIGURE ###\n",
    "\n",
    "# Code for the instantiation of the DRSFDocProcessor object.\n",
    "\n",
    "# Import statments of DRSF codebase.\n",
    "from drsf import drsf_doc_processor\n",
    "\n",
    "# Instantiation of the DRSFDocProcessor object.\n",
    "doc_processor = drsf_doc_processor.DRSFDocProcessor(DRSF_BASE_CONFIG_MAPPINGS, DRSF_SOURCE_DOCS_TEMPLATE_DIR, DRSF_ENTRY_TEMPLATES_DIR, DRSF_SOURCE_DOCS_DEV_DIR, DRSF_SOURCE_DOCS_STAGING_DIR, DRSF_SOURCE_DOCS_BUILD_DIR)\n",
    "\n",
    "### DO NOT MANUALLY CONFIGURE ###"
   ]
  },
  {
   "cell_type": "code",
   "execution_count": 11,
   "metadata": {},
   "outputs": [],
   "source": [
    "### MANUAL CONFIGURATION CODE COMMENTED ###\n",
    "###   OUT FOR DEMONSTRATION PURPOSES    ###\n",
    "\n",
    "# BUILDING NEW DRSF ENTRIES\n",
    "\n",
    "# Enter the title and entry type of the new DRSF entry here.\n",
    "# new_entry_title = \"\"\n",
    "# new_entry_type = \"\"\n",
    "\n",
    "# Then have the DRSF codebase cross-reference the title for any conflicts,\n",
    "# generate a new unique ID, and create the entry's documentation draft from\n",
    "# a template.\n",
    "# new_entry = doc_processor.create_new_drsf_entry(new_entry_type, new_entry_title)\n",
    "# print(new_entry.id)\n",
    "\n",
    "### MANUAL CONFIGURATION CODE COMMENTED ###\n",
    "###   OUT FOR DEMONSTRATION PURPOSES    ###"
   ]
  },
  {
   "cell_type": "code",
   "execution_count": 6,
   "metadata": {},
   "outputs": [],
   "source": [
    "### DO NOT MANUALLY CONFIGURE ###\n",
    "### DEMONSTRATION CODE BLOCK  ###\n",
    "\n",
    "# DEMO CODE WITH MULTIPLE ENTRIES CREATED\n",
    "test_atk_entry_01 = doc_processor.create_new_drsf_entry(\"attack\", \"Drive-By Download\")\n",
    "test_threat_entry_01 = doc_processor.create_new_drsf_entry(\"threat\", \"Malware On Laptop\")\n",
    "test_atk_entry_02 = doc_processor.create_new_drsf_entry(\"attack\", \"AWS Credential Exfil\")\n",
    "test_ae_entry_01 = doc_processor.create_new_drsf_entry(\"adverse_event\", \"Manufacturing AWS Compromised\")\n",
    "\n",
    "### DO NOT MANUALLY CONFIGURE ###\n",
    "### DEMONSTRATION CODE BLOCK  ###"
   ]
  },
  {
   "cell_type": "markdown",
   "metadata": {},
   "source": [
    "# Editing DRSF Entries\n",
    "\n",
    "<!-- TODO: Content within this section remains a work in progress. -->\n",
    "\n",
    "It is up to you whether you'd like to edit DRSF entries manually within each entry's myst-markdown document, or programatically via the `DRSFDocProcessor` object's `edit_existing_entry_foundational_build_field()` function.\n",
    "\n",
    "Note that currently the DRSF Workbench only provides automation for certain edits to a DRSF entry's \"foundational build fields\", such as creating associations between one or more DRSF entries.\n",
    "\n",
    "The code cell below presents some functions to you for programmatically editing DRSF entries.  Here you should feel free to insert some additional code cells of your own if you wish to further automate entry editing."
   ]
  },
  {
   "cell_type": "code",
   "execution_count": 7,
   "metadata": {},
   "outputs": [],
   "source": [
    "### DO NOT MANUALLY CONFIGURE ###\n",
    "\n",
    "# Code for the instantiation of the DRSFDocProcessor object.\n",
    "\n",
    "# Import statments of DRSF codebase.\n",
    "from drsf import drsf_doc_processor\n",
    "\n",
    "# Instantiation of the DRSFDocProcessor object.\n",
    "doc_processor = drsf_doc_processor.DRSFDocProcessor(DRSF_BASE_CONFIG_MAPPINGS, DRSF_SOURCE_DOCS_TEMPLATE_DIR, DRSF_ENTRY_TEMPLATES_DIR, DRSF_SOURCE_DOCS_DEV_DIR, DRSF_SOURCE_DOCS_STAGING_DIR, DRSF_SOURCE_DOCS_BUILD_DIR)\n",
    "\n",
    "### DO NOT MANUALLY CONFIGURE ###"
   ]
  },
  {
   "cell_type": "code",
   "execution_count": 14,
   "metadata": {},
   "outputs": [],
   "source": [
    "### MANUAL CONFIGURATION CODE COMMENTED ###\n",
    "###   OUT FOR DEMONSTRATION PURPOSES    ###\n",
    "\n",
    "# EDITING EXISTING DRSF ENTRIES\n",
    "\n",
    "# Enter the id of the entry you'd like to edit here.\n",
    "# entry_to_edit_id = \"\"\n",
    "\n",
    "# Then enter the name of the \"foundational build field\" that you'd\n",
    "# like to edit, and the new value for that field.  Note that this\n",
    "# value could be a string, or a list of strings.  Which you choose\n",
    "# depends on the field that you're editing.\n",
    "# field_to_edit = \"\"\n",
    "# new_field_value = \"\" # or []\n",
    "\n",
    "# Have the DRSF codebase edit this field and insert the new value.\n",
    "# edited_entry = doc_processor.edit_existing_entry_foundational_build_field(entry_to_edit_id, field_to_edit, new_field_value)\n",
    "\n",
    "### MANUAL CONFIGURATION CODE COMMENTED ###\n",
    "###   OUT FOR DEMONSTRATION PURPOSES    ###"
   ]
  },
  {
   "cell_type": "code",
   "execution_count": 8,
   "metadata": {},
   "outputs": [],
   "source": [
    "### DO NOT MANUALLY CONFIGURE ###\n",
    "### DEMONSTRATION CODE BLOCK  ###\n",
    "\n",
    "# DEMO CODE WITH MULTIPLE ENTRIES EDITED\n",
    "test_ae_entry_01 = doc_processor.edit_existing_entry_foundational_build_field(test_ae_entry_01.id, \"preceeding_attacks\", [test_atk_entry_02.id])\n",
    "test_atk_entry_02 = doc_processor.edit_existing_entry_foundational_build_field(test_atk_entry_02.id, \"preceeding_threats\", [test_threat_entry_01.id])\n",
    "test_threat_entry_01 = doc_processor.edit_existing_entry_foundational_build_field(test_threat_entry_01.id, \"preceeding_attacks\", [test_atk_entry_01.id])\n",
    "\n",
    "### DO NOT MANUALLY CONFIGURE ###\n",
    "### DEMONSTRATION CODE BLOCK  ###"
   ]
  },
  {
   "cell_type": "markdown",
   "metadata": {},
   "source": [
    "# Exploring Your DRSF for Insights\n",
    "\n",
    "<!-- TODO: Content within this section remains a work in progress. -->\n",
    "\n",
    "Being able to programmatically ennummerate and analyze every entry in the framework, as well as the relationships between entries, is a critically important and powerful capability of the DRSF.\n",
    "\n",
    "The following code cell instantiates a DRSF object from your DRSF source docs.  This object's methods allow you to explore your DRSF's entry database and mastergraph data structures.\n",
    "\n",
    "You're welcome and encouraged to add additional code cells in this section which automate and document the exploration of your DRSF's data structures."
   ]
  },
  {
   "cell_type": "code",
   "execution_count": 9,
   "metadata": {},
   "outputs": [],
   "source": [
    "### DO NOT MANUALLY CONFIGURE ###\n",
    "\n",
    "# Import statments of DRSF codebase.\n",
    "from drsf import drsf_doc_processor\n",
    "\n",
    "# Instantiation of the DRSFDocProcessor object.\n",
    "doc_processor = drsf_doc_processor.DRSFDocProcessor(DRSF_BASE_CONFIG_MAPPINGS, DRSF_SOURCE_DOCS_TEMPLATE_DIR, DRSF_ENTRY_TEMPLATES_DIR, DRSF_SOURCE_DOCS_DEV_DIR, DRSF_SOURCE_DOCS_STAGING_DIR, DRSF_SOURCE_DOCS_BUILD_DIR)\n",
    "\n",
    "# Instantiating the DRSF code object.\n",
    "drsf_obj = doc_processor.instantiate_drsf_obj_from_source_doc_dir(doc_processor.SOURCE_DOCS_DEV_DIR)\n",
    "\n",
    "### DO NOT MANUALLY CONFIGURE ###"
   ]
  },
  {
   "cell_type": "markdown",
   "metadata": {},
   "source": [
    "# Publishing Your DRSF Documentation\n",
    "\n",
    "<!-- TODO: Content within this section remains a work in progress. -->\n",
    "\n",
    "Once you believe that you have properly created and organized all your DRSF content - from the general content of your DRSF Jupyter Book through all your DRSF's entries - it's time to start publishing this content for the benefit of your teams.\n",
    "\n",
    "There are several stages to the publication process.\n",
    "\n"
   ]
  },
  {
   "cell_type": "markdown",
   "metadata": {},
   "source": [
    "## Deploying DRSF Source Content from Dev to Staging\n",
    "\n",
    "<!-- TODO: Content within this section remains a work in progress. -->\n",
    "\n",
    "The first step in the publication process is to deploy the DRSF source content in your DEV \\(`DRSF_SOURCE_DOCS_DEV_DIR`\\) directory to your STAGING \\(`DRSF_SOURCE_DOCS_STAGING_DIR`\\) directory.  This kicks off a complicated chain of actions in the DRSF codebase.  The following is a general summary of what happens.\n",
    "1. All DRSF entry source document files are parsed, and a list of `DRSF_Entry` objects is created.\n",
    "2. That list of entries is then used to instantiate a `DRSF` object.\n",
    "3. The DRSF's database is created from the list of DRSF entries, and entry associations \\(e.g. populating a threat's \"proceeding attacks\"\\) are processed.\n",
    "4. The DRSF's master graph is then built from the DRSF database.  Further DRSF metrics may be calculated at this time, and written back into the database.\n",
    "5. Once the `DRSF` object's database and graph have run through all their operations, the resulting DRSF entry associations and calculated metrics are then written back into the DRSF entry source documents in the STAGING directory.  This stage involves in-line changes to those myst-markdown documents, as well as a few other complicated operations.\n",
    "\n",
    "At this point, you may be asking yourself an important question...  **Why even have a staging directory?  Why not simply validate the DRSF documents in the dev directory, and then just build the Jupyter book right there?**\n",
    "\n",
    "The first reason is that we need to edit DRSF documents in-line before a Jupyter book is built from them.  For example, when you created a new DRSF entry document from a template file, you may have noticed a section that said \"Automated Documentation Section\".  These sections are automatically edited by the DRSF codebase for a variety of reasons.  Just one example is the automatic insertion of links to related DRSF entries: such as \"Preceeding Attacks\", \"Associated Detection Signatures\", etc.  When we're creating our new DRSF entries and building them up, we want to make it clear to the contributor that those sections should not be manually edited.\n",
    "\n",
    "The second reason is that when the DRSF documents are pushed to staging, the DRSF codebase completely removes the Foundational Build Syntax section from each entry's myst-markdown document.  While this section is critically important when building our DRSF and its documentation, it is not useful for the SOC Analyst or executive who's reading the final  DRSF Jupyter Book published product.\n",
    "\n",
    "With all these in-line changes to these STAGING source documents, we want to keep the two collections of source documents completely separate.  If we were also making changes to the drsf codebase itself - changing how the dev source documents were edited - then changing source documents in a separate staging directory instead of the original dev directory would be critically important. "
   ]
  },
  {
   "cell_type": "code",
   "execution_count": 10,
   "metadata": {},
   "outputs": [],
   "source": [
    "### DO NOT MANUALLY CONFIGURE ###\n",
    "\n",
    "# Import statments of DRSF codebase.\n",
    "from drsf import drsf_doc_processor\n",
    "\n",
    "# Instantiation of the DRSFDocProcessor object.\n",
    "doc_processor = drsf_doc_processor.DRSFDocProcessor(DRSF_BASE_CONFIG_MAPPINGS, DRSF_SOURCE_DOCS_TEMPLATE_DIR, DRSF_ENTRY_TEMPLATES_DIR, DRSF_SOURCE_DOCS_DEV_DIR, DRSF_SOURCE_DOCS_STAGING_DIR, DRSF_SOURCE_DOCS_BUILD_DIR)\n",
    "\n",
    "# Instantiating the DRSF code object.\n",
    "drsf_obj = doc_processor.instantiate_drsf_obj_from_source_doc_dir(doc_processor.SOURCE_DOCS_DEV_DIR)\n",
    "\n",
    "# DEPLOY DRSF SOURCE DOCS TO STAGING DIRECTORY\n",
    "doc_processor.deploy_dev_source_docs_to_staging_dir()\n",
    "\n",
    "### DO NOT MANUALLY CONFIGURE ###"
   ]
  },
  {
   "cell_type": "markdown",
   "metadata": {},
   "source": [
    "## Deploying DRSF Source Content from Staging to Build\n",
    "\n",
    "<!-- TODO: Content within this section remains a work in progress. -->\n",
    "\n",
    "With the DRSF source content in the staging \\(`DRSF_SOURCE_DOCS_STAGING_DIR`\\) directory validated, you can now finally deploy it to the build directory \\(`DRSF_SOURCE_DOCS_BUILD_DIR`\\).\n",
    "\n",
    "The build directory will be where you invoke the Jupyter Book program from the CLI, and process your DRSF source content into a clean published format."
   ]
  },
  {
   "cell_type": "code",
   "execution_count": 11,
   "metadata": {},
   "outputs": [],
   "source": [
    "### DO NOT MANUALLY CONFIGURE ###\n",
    "\n",
    "# Import statments of DRSF codebase.\n",
    "from drsf import drsf_doc_processor\n",
    "\n",
    "# Instantiation of the DRSFDocProcessor object.\n",
    "doc_processor = drsf_doc_processor.DRSFDocProcessor(DRSF_BASE_CONFIG_MAPPINGS, DRSF_SOURCE_DOCS_TEMPLATE_DIR, DRSF_ENTRY_TEMPLATES_DIR, DRSF_SOURCE_DOCS_DEV_DIR, DRSF_SOURCE_DOCS_STAGING_DIR, DRSF_SOURCE_DOCS_BUILD_DIR)\n",
    "\n",
    "# DEPLOY STAGING DOCS TO BUILD DIRECTORY\n",
    "book_url = doc_processor.deploy_staging_source_docs_to_build_dir()\n",
    "\n",
    "### DO NOT MANUALLY CONFIGURE ###"
   ]
  },
  {
   "cell_type": "markdown",
   "metadata": {},
   "source": [
    "## Publishing DRSF Source Content Using Jupyter Book\n",
    "\n",
    "<!-- TODO: Content within this section remains a work in progress. -->\n",
    "\n",
    "With the source doc build directory \\(`DRSF_SOURCE_DOCS_BUILD_DIR`\\) successfully created, you're now ready to use the Jupyter Book program to process that DRSF source content into an intuitive published format.\n",
    "\n",
    "At the current time, harnessing Jupyter Book's capabilities must be done manually through invoking its CLI utility.\n",
    "\n",
    "The `jupyter-book` CLI utility allows you to publish your source content into several formats.  For now, the DRSF Workbench is focused on exporting DRSF documentation to html files that can facilitate a static website.\n",
    "\n",
    "### Publishing Your DRSF Source Documentation to HTML\n",
    "\n",
    "1. Open your CLI and navigate to the build directory you specified with the constant variable `DRSF_SOURCE_DOCS_BUILD_DIR`.\n",
    "2. From the build directory, run this command on your CLI: `jupyter-book build --all ./`.\n",
    "3. The Jupyter Book CLI utility will display a lot of output to your terminal.  Review that output for any errors in the publishing process.\n",
    "4. Assuming that the build process has executed without any errors, the program should present you will a local filesystem link for viewing the html files in your local machine's browser.\n"
   ]
  }
 ],
 "metadata": {
  "kernelspec": {
   "display_name": "venv--app_drsf",
   "language": "python",
   "name": "python3"
  },
  "language_info": {
   "codemirror_mode": {
    "name": "ipython",
    "version": 3
   },
   "file_extension": ".py",
   "mimetype": "text/x-python",
   "name": "python",
   "nbconvert_exporter": "python",
   "pygments_lexer": "ipython3",
   "version": "3.11.0"
  },
  "orig_nbformat": 4
 },
 "nbformat": 4,
 "nbformat_minor": 2
}
