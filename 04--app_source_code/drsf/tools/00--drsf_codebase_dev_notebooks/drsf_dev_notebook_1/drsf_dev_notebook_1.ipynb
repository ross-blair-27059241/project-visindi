{
 "cells": [
  {
   "cell_type": "markdown",
   "metadata": {},
   "source": [
    "```\n",
    "#                 COPYRIGHT & LICENSE TERMS NOTICE\n",
    "# =============================================================================\n",
    "# All following code and content is © 2024 Ross Blair,\n",
    "# and falls under the licensing terms of Ross Blair's\n",
    "# derivative of the Business Source License \\(BSL\\).\n",
    "# The precise license and warranty terms of the BSL can be found in the file \n",
    "# `LICENSE.BSL.md`, which should have been distributed\n",
    "# along with this code file.  All other use of original-work code and content\n",
    "# falling outside of this BSL license is prohibited.\n",
    "# =============================================================================\n",
    "```"
   ]
  },
  {
   "cell_type": "markdown",
   "metadata": {},
   "source": [
    "# DRSF Development Notebook 1\n",
    "\n",
    "This notebook is to serve as a development and testing area for your core codebase.  Consider all code here to be incomplete and error-prone."
   ]
  },
  {
   "cell_type": "code",
   "execution_count": null,
   "metadata": {},
   "outputs": [],
   "source": [
    "### DO NOT MANUALLY CONFIGURE ###\n",
    "\n",
    "# Execute the pip package-management-program to perform\n",
    "# an \"editable installation\" of the core DRSF codebase.\n",
    "# This is necessary for the successful imports of the\n",
    "# drsf module in the rest of this notebook's code cells.\n",
    "%pip install -e ../../../drsf\n",
    "\n",
    "### DO NOT MANUALLY CONFIGURE ###"
   ]
  },
  {
   "cell_type": "code",
   "execution_count": null,
   "metadata": {},
   "outputs": [],
   "source": [
    "### TO BE MANUALLY CONFIGURED ###\n",
    "\n",
    "# Constants to be changed by the end user for their own DRSF build.\n",
    "DRSF_SOURCE_DOCS_DEV_DIR = \"./DRSF_Source_Docs_DEV\"\n",
    "DRSF_SOURCE_DOCS_STAGING_DIR = \"./DRSF_Source_Docs_STAGING\"\n",
    "DRSF_SOURCE_DOCS_BUILD_DIR = \"./DRSF_Source_Docs_BUILD\"\n",
    "\n",
    "### TO BE MANUALLY CONFIGURED ###"
   ]
  },
  {
   "cell_type": "code",
   "execution_count": null,
   "metadata": {},
   "outputs": [],
   "source": [
    "### DO NOT MANUALLY CONFIGURE ###\n",
    "\n",
    "# Constants that should only be changed by active developers.\n",
    "DRSF_BASE_CONFIG_MAPPINGS = \"./00-drsf_base_config_mappings.json\"\n",
    "DRSF_SOURCE_DOCS_TEMPLATE_DIR = \"./00-drsf_source_docs_template_dir\"\n",
    "DRSF_ENTRY_TEMPLATES_DIR = \"./00-drsf_entry_markdown_templates\"\n",
    "\n",
    "### DO NOT MANUALLY CONFIGURE ###"
   ]
  },
  {
   "cell_type": "code",
   "execution_count": null,
   "metadata": {},
   "outputs": [],
   "source": [
    "### WARNING: DO NOT EXECUTE UNLESS YOU WANT A CLEAN SLATE ###\n",
    "\n",
    "### DO NOT MANUALLY CONFIGURE ###\n",
    "\n",
    "# Import statments of DRSF codebase.\n",
    "from drsf import drsf_doc_processor\n",
    "\n",
    "# Instantiation of the DRSFDocProcessor object.\n",
    "doc_processor = drsf_doc_processor.DRSFDocProcessor(DRSF_BASE_CONFIG_MAPPINGS, DRSF_SOURCE_DOCS_TEMPLATE_DIR, DRSF_ENTRY_TEMPLATES_DIR, DRSF_SOURCE_DOCS_DEV_DIR, DRSF_SOURCE_DOCS_STAGING_DIR, DRSF_SOURCE_DOCS_BUILD_DIR)\n",
    "\n",
    "# Wipe all DRSF document directories.\n",
    "# Rebuild DEV directory from a template directory.\n",
    "### WARNING: READ DOC CELL ABOVE BEFORE EXECUTING ###\n",
    "doc_processor.wipe_source_doc_dirs_and_build_from_scratch()\n",
    "\n",
    "### DO NOT MANUALLY CONFIGURE ###"
   ]
  },
  {
   "cell_type": "code",
   "execution_count": null,
   "metadata": {},
   "outputs": [],
   "source": [
    "### DO NOT MANUALLY CONFIGURE ###\n",
    "\n",
    "# Import statments of DRSF codebase.\n",
    "from drsf import drsf_doc_processor\n",
    "\n",
    "# Instantiation of the DRSFDocProcessor object.\n",
    "doc_processor = drsf_doc_processor.DRSFDocProcessor(DRSF_BASE_CONFIG_MAPPINGS, DRSF_SOURCE_DOCS_TEMPLATE_DIR, DRSF_ENTRY_TEMPLATES_DIR, DRSF_SOURCE_DOCS_DEV_DIR, DRSF_SOURCE_DOCS_STAGING_DIR, DRSF_SOURCE_DOCS_BUILD_DIR)\n",
    "\n",
    "# Instantiating the DRSF code object.\n",
    "drsf_obj = doc_processor.instantiate_drsf_obj_from_source_doc_dir(doc_processor.SOURCE_DOCS_DEV_DIR)\n",
    "\n",
    "### DO NOT MANUALLY CONFIGURE ###"
   ]
  }
 ],
 "metadata": {
  "kernelspec": {
   "display_name": "venv--app_drsf",
   "language": "python",
   "name": "python3"
  },
  "language_info": {
   "name": "python",
   "version": "3.11.0"
  }
 },
 "nbformat": 4,
 "nbformat_minor": 2
}
